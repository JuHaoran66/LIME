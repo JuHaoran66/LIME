{
 "cells": [
  {
   "metadata": {},
   "cell_type": "markdown",
   "source": "This idea of simplified representation refers to https://github.com/christophM/interpretable-ml-book/tree/master, which is conducted in R-Studio.",
   "id": "67c3daad52703d8b"
  },
  {
   "cell_type": "code",
   "id": "initial_id",
   "metadata": {
    "collapsed": true,
    "ExecuteTime": {
     "end_time": "2025-01-04T02:36:02.392842Z",
     "start_time": "2025-01-04T02:36:02.153013Z"
    }
   },
   "source": [
    "import numpy as np\n",
    "import pandas as pd\n",
    "from sklearn.ensemble import RandomForestClassifier\n",
    "from sklearn.linear_model import LogisticRegression\n",
    "from sklearn.metrics.pairwise import euclidean_distances\n",
    "import matplotlib.pyplot as plt\n",
    "import seaborn as sns"
   ],
   "outputs": [],
   "execution_count": 1
  },
  {
   "metadata": {
    "ExecuteTime": {
     "end_time": "2025-01-04T02:36:02.395558Z",
     "start_time": "2025-01-04T02:36:02.393886Z"
    }
   },
   "cell_type": "code",
   "source": [
    "lower_x1, upper_x1 = -2, 2\n",
    "lower_x2, upper_x2 = -2, 1\n",
    "n_training = 20000\n",
    "n_grid = 100\n",
    "n_sample = 500\n",
    "np.random.seed(1)"
   ],
   "id": "8db5123af5617b92",
   "outputs": [],
   "execution_count": 2
  },
  {
   "metadata": {
    "ExecuteTime": {
     "end_time": "2025-01-04T02:36:02.398416Z",
     "start_time": "2025-01-04T02:36:02.396088Z"
    }
   },
   "cell_type": "code",
   "source": [
    "def get_y(x1, x2, noise_prob=0):\n",
    "    radius = 1.0  \n",
    "    center_x, center_y = 0, -0.5\n",
    "\n",
    "    distance = np.sqrt((x1 - center_x) ** 2 + (x2 - center_y) ** 2)\n",
    "    y = np.sign(radius - distance) + 1 \n",
    "    y = y * (1 - np.random.binomial(1, noise_prob, size=len(x1))) \n",
    "    y = 1 - y\n",
    "    return y\n"
   ],
   "id": "ca5ed851109ee548",
   "outputs": [],
   "execution_count": 3
  },
  {
   "metadata": {
    "ExecuteTime": {
     "end_time": "2025-01-04T02:36:02.403428Z",
     "start_time": "2025-01-04T02:36:02.399077Z"
    }
   },
   "cell_type": "code",
   "source": [
    "x1 = np.random.uniform(lower_x1, upper_x1, n_training)\n",
    "x2 = np.random.uniform(lower_x2, upper_x2, n_training)\n",
    "y = get_y(x1, x2)\n",
    "y_noisy = get_y(x1, x2, noise_prob=0.01)"
   ],
   "id": "bbfa7695397abcfb",
   "outputs": [],
   "execution_count": 4
  },
  {
   "metadata": {
    "ExecuteTime": {
     "end_time": "2025-01-04T02:36:02.408099Z",
     "start_time": "2025-01-04T02:36:02.404632Z"
    }
   },
   "cell_type": "code",
   "source": "lime_training_df = pd.DataFrame({'x1': x1, 'x2': x2, 'y': y, 'y_noisy': y_noisy})",
   "id": "949e27835e098d8d",
   "outputs": [],
   "execution_count": 5
  },
  {
   "metadata": {
    "ExecuteTime": {
     "end_time": "2025-01-04T02:36:03.630662Z",
     "start_time": "2025-01-04T02:36:02.408969Z"
    }
   },
   "cell_type": "code",
   "source": [
    "rf = RandomForestClassifier(n_estimators=100, random_state=1)\n",
    "rf.fit(lime_training_df[['x1', 'x2']], lime_training_df['y_noisy'])\n",
    "lime_training_df['predicted'] = rf.predict(lime_training_df[['x1', 'x2']])"
   ],
   "id": "a4426507292767f9",
   "outputs": [],
   "execution_count": 6
  },
  {
   "metadata": {
    "ExecuteTime": {
     "end_time": "2025-01-04T02:36:03.638041Z",
     "start_time": "2025-01-04T02:36:03.632485Z"
    }
   },
   "cell_type": "code",
   "source": [
    "explain_x1, explain_x2 = 0.5, 0.25\n",
    "explain_point = np.array([explain_x1, explain_x2])\n",
    "explain_y_model = rf.predict([explain_point])[0]\n",
    "df_explain = pd.DataFrame({'x1': [explain_x1], 'x2': [explain_x2], 'y_predicted': [explain_y_model]})"
   ],
   "id": "cf1eb8dfa668c9d1",
   "outputs": [
    {
     "name": "stderr",
     "output_type": "stream",
     "text": [
      "/Library/Frameworks/Python.framework/Versions/3.12/lib/python3.12/site-packages/sklearn/base.py:493: UserWarning: X does not have valid feature names, but RandomForestClassifier was fitted with feature names\n",
      "  warnings.warn(\n"
     ]
    }
   ],
   "execution_count": 7
  },
  {
   "metadata": {
    "ExecuteTime": {
     "end_time": "2025-01-04T02:36:03.641863Z",
     "start_time": "2025-01-04T02:36:03.639250Z"
    }
   },
   "cell_type": "code",
   "source": [
    "x_means = [lime_training_df['x1'].mean(), lime_training_df['x2'].mean()]\n",
    "x_sd = [lime_training_df['x1'].std(), lime_training_df['x2'].std()]"
   ],
   "id": "7722169a6e361b6c",
   "outputs": [],
   "execution_count": 8
  },
  {
   "metadata": {
    "ExecuteTime": {
     "end_time": "2025-01-04T02:36:03.667392Z",
     "start_time": "2025-01-04T02:36:03.642501Z"
    }
   },
   "cell_type": "code",
   "source": [
    "grid_x1 = np.linspace(lower_x1, upper_x1, n_grid)\n",
    "grid_x2 = np.linspace(lower_x2, upper_x2, n_grid)\n",
    "grid_df = pd.DataFrame([(x1, x2) for x1 in grid_x1 for x2 in grid_x2], columns=['x1', 'x2'])\n",
    "grid_df['predicted'] = rf.predict(grid_df[['x1', 'x2']])"
   ],
   "id": "15dad0c235d025f7",
   "outputs": [],
   "execution_count": 9
  },
  {
   "metadata": {
    "ExecuteTime": {
     "end_time": "2025-01-04T02:36:03.671271Z",
     "start_time": "2025-01-04T02:36:03.668017Z"
    }
   },
   "cell_type": "code",
   "source": [
    "point_explain_scaled = (explain_point - x_means) / x_sd\n",
    "\n",
    "x1_sample = np.random.normal(x_means[0], x_sd[0], n_sample)\n",
    "x2_sample = np.random.normal(x_means[1], x_sd[1], n_sample)\n",
    "df_sample = pd.DataFrame({'x1': x1_sample, 'x2': x2_sample})"
   ],
   "id": "bd6b9faa50f0899f",
   "outputs": [],
   "execution_count": 10
  },
  {
   "metadata": {
    "ExecuteTime": {
     "end_time": "2025-01-04T02:36:03.674924Z",
     "start_time": "2025-01-04T02:36:03.672093Z"
    }
   },
   "cell_type": "code",
   "source": "points_sample_scaled = (df_sample - x_means) / x_sd",
   "id": "8d2d71653af8eef3",
   "outputs": [],
   "execution_count": 11
  },
  {
   "metadata": {
    "ExecuteTime": {
     "end_time": "2025-01-04T02:36:03.685207Z",
     "start_time": "2025-01-04T02:36:03.675524Z"
    }
   },
   "cell_type": "code",
   "source": [
    "distances = euclidean_distances([point_explain_scaled], points_sample_scaled.values).flatten()\n",
    "kernel_width = np.sqrt(df_sample.shape[1]) * 0.3\n",
    "weights = np.sqrt(np.exp(-(distances ** 2) / (kernel_width ** 2)))\n",
    "df_sample['weights'] = weights\n",
    "df_sample['predicted'] = rf.predict(df_sample[['x1', 'x2']])"
   ],
   "id": "b22aba7f3464504a",
   "outputs": [],
   "execution_count": 12
  },
  {
   "metadata": {
    "ExecuteTime": {
     "end_time": "2025-01-04T02:36:03.738243Z",
     "start_time": "2025-01-04T02:36:03.685910Z"
    }
   },
   "cell_type": "code",
   "source": [
    "local_model = LogisticRegression()\n",
    "local_model.fit(df_sample[['x1', 'x2']], df_sample['predicted'], sample_weight=weights)\n",
    "grid_df['explained'] = local_model.predict_proba(grid_df[['x1', 'x2']])[:, 1]"
   ],
   "id": "634478718f027e59",
   "outputs": [],
   "execution_count": 13
  },
  {
   "metadata": {
    "ExecuteTime": {
     "end_time": "2025-01-04T02:36:03.816476Z",
     "start_time": "2025-01-04T02:36:03.786291Z"
    }
   },
   "cell_type": "code",
   "source": [
    "# Calculate the decision boundary of logistic regression\n",
    "coefs = np.hstack((local_model.intercept_, local_model.coef_[0]))\n",
    "logistic_boundary_x1 = grid_x1\n",
    "logistic_boundary_x2 = -(coefs[0] + coefs[1] * logistic_boundary_x1) / coefs[2]\n",
    "\n",
    "# Create a DataFrame to store the decision boundary\n",
    "logistic_boundary_df = pd.DataFrame({'x1': logistic_boundary_x1, 'x2': logistic_boundary_x2})\n",
    "logistic_boundary_df = logistic_boundary_df[(logistic_boundary_df['x2'] >= lower_x2) & \n",
    "                                            (logistic_boundary_df['x2'] <= upper_x2)]\n"
   ],
   "id": "493a40fa3f353f62",
   "outputs": [],
   "execution_count": 14
  },
  {
   "metadata": {
    "ExecuteTime": {
     "end_time": "2025-01-04T02:36:04.120430Z",
     "start_time": "2025-01-04T02:36:03.828399Z"
    }
   },
   "cell_type": "code",
   "source": [
    "#Create a smaller grid for visualizing local decision boundaries\n",
    "x1_steps = np.linspace(lower_x1, upper_x1, 20)\n",
    "x2_steps = np.linspace(lower_x2, upper_x2, 20)\n",
    "\n",
    "grid_df_small = grid_df[\n",
    "    grid_df['x1'].apply(lambda x: any(np.isclose(x, x1_steps, atol=1e-2))) &\n",
    "    grid_df['x2'].apply(lambda x: any(np.isclose(x, x2_steps, atol=1e-2)))\n",
    "].copy()\n",
    "\n",
    "grid_df_small['explained_class'] = np.round(grid_df_small['explained'])"
   ],
   "id": "fb2d35a835ff9e4a",
   "outputs": [],
   "execution_count": 15
  },
  {
   "metadata": {
    "ExecuteTime": {
     "end_time": "2025-01-04T02:37:27.038982Z",
     "start_time": "2025-01-04T02:37:26.826788Z"
    }
   },
   "cell_type": "code",
   "source": [
    "\n",
    "## plotD: Decision Boundary of the Local Model Explanation\n",
    "plt.title(\"LIME on highly-nonlinear decision boundary\")\n",
    "#black box boundary\n",
    "plt.contourf(\n",
    "    grid_x1, grid_x2,\n",
    "    grid_df['predicted'].values.reshape(n_grid, n_grid),\n",
    "    alpha=0.35, cmap='coolwarm')\n",
    "\n",
    "#+ and -\n",
    "plt.scatter(\n",
    "    grid_df_small[grid_df_small['explained_class'] == 1]['x1'],\n",
    "    grid_df_small[grid_df_small['explained_class'] == 1]['x2'],\n",
    "    color='red', marker='x', s=40, label='Local Class 1'\n",
    ")\n",
    "plt.scatter(\n",
    "    grid_df_small[grid_df_small['explained_class'] == 0]['x1'],\n",
    "    grid_df_small[grid_df_small['explained_class'] == 0]['x2'],\n",
    "    color='blue', marker='_', s=40, label='Local Class 0'\n",
    ")\n",
    "\n",
    "#instance point\n",
    "plt.scatter(\n",
    "    df_explain['x1'], df_explain['x2'],\n",
    "    color='yellow', edgecolor='black', s=100, label='Explained Point'\n",
    ")\n",
    "\n",
    "# Decision Boundary of Logistic Regression\n",
    "plt.plot(\n",
    "    logistic_boundary_df['x1'], logistic_boundary_df['x2'],\n",
    "    color='white', linewidth=2, label='Logistic Boundary'\n",
    ")\n",
    "plt.xlim(-2, 2)\n",
    "plt.ylim(-2, 1)\n",
    "plt.xlabel(\"x1\")\n",
    "plt.ylabel(\"x2\")\n",
    "\n",
    "plt.tight_layout() \n",
    "plt.savefig(\"results/algo2.png\") \n",
    "plt.show()"
   ],
   "id": "4580612c6fefd7e5",
   "outputs": [
    {
     "data": {
      "text/plain": [
       "<Figure size 640x480 with 1 Axes>"
      ],
      "image/png": "[encoded data removed]"
     },
     "metadata": {},
     "output_type": "display_data"
    }
   ],
   "execution_count": 19
  },
  {
   "metadata": {
    "ExecuteTime": {
     "end_time": "2025-01-04T02:38:13.659876Z",
     "start_time": "2025-01-04T02:38:13.074115Z"
    }
   },
   "cell_type": "code",
   "source": [
    "explain_x1, explain_x2 = -0.5, -0.5\n",
    "explain_point = np.array([explain_x1, explain_x2])\n",
    "explain_y_model = rf.predict([explain_point])[0]\n",
    "df_explain = pd.DataFrame({'x1': [explain_x1], 'x2': [explain_x2], 'y_predicted': [explain_y_model]})\n",
    "x_means = [lime_training_df['x1'].mean(), lime_training_df['x2'].mean()]\n",
    "x_sd = [lime_training_df['x1'].std(), lime_training_df['x2'].std()]\n",
    "grid_x1 = np.linspace(lower_x1, upper_x1, n_grid)\n",
    "grid_x2 = np.linspace(lower_x2, upper_x2, n_grid)\n",
    "grid_df = pd.DataFrame([(x1, x2) for x1 in grid_x1 for x2 in grid_x2], columns=['x1', 'x2'])\n",
    "grid_df['predicted'] = rf.predict(grid_df[['x1', 'x2']])\n",
    "point_explain_scaled = (explain_point - x_means) / x_sd\n",
    "\n",
    "x1_sample = np.random.normal(x_means[0], x_sd[0], n_sample)\n",
    "x2_sample = np.random.normal(x_means[1], x_sd[1], n_sample)\n",
    "df_sample = pd.DataFrame({'x1': x1_sample, 'x2': x2_sample})\n",
    "points_sample_scaled = (df_sample - x_means) / x_sd\n",
    "distances = euclidean_distances([point_explain_scaled], points_sample_scaled.values).flatten()\n",
    "kernel_width = np.sqrt(df_sample.shape[1]) * 0.3\n",
    "weights = np.sqrt(np.exp(-(distances ** 2) / (kernel_width ** 2)))\n",
    "df_sample['weights'] = weights\n",
    "df_sample['predicted'] = rf.predict(df_sample[['x1', 'x2']])\n",
    "local_model = LogisticRegression()\n",
    "local_model.fit(df_sample[['x1', 'x2']], df_sample['predicted'], sample_weight=weights)\n",
    "grid_df['explained'] = local_model.predict_proba(grid_df[['x1', 'x2']])[:, 1]\n",
    "# Calculate the decision boundary of logistic regression\n",
    "coefs = np.hstack((local_model.intercept_, local_model.coef_[0]))\n",
    "logistic_boundary_x1 = grid_x1\n",
    "logistic_boundary_x2 = -(coefs[0] + coefs[1] * logistic_boundary_x1) / coefs[2]\n",
    "\n",
    "# Create a DataFrame to store the decision boundary\n",
    "logistic_boundary_df = pd.DataFrame({'x1': logistic_boundary_x1, 'x2': logistic_boundary_x2})\n",
    "logistic_boundary_df = logistic_boundary_df[(logistic_boundary_df['x2'] >= lower_x2) &\n",
    "                                            (logistic_boundary_df['x2'] <= upper_x2)]\n",
    "\n",
    "#Create a smaller grid for visualizing local decision boundaries\n",
    "x1_steps = np.linspace(lower_x1, upper_x1, 20)\n",
    "x2_steps = np.linspace(lower_x2, upper_x2, 20)\n",
    "\n",
    "grid_df_small = grid_df[\n",
    "    grid_df['x1'].apply(lambda x: any(np.isclose(x, x1_steps, atol=1e-2))) &\n",
    "    grid_df['x2'].apply(lambda x: any(np.isclose(x, x2_steps, atol=1e-2)))\n",
    "    ].copy()\n",
    "\n",
    "grid_df_small['explained_class'] = np.round(grid_df_small['explained'])\n",
    "\n",
    "## plotD: Decision Boundary of the Local Model Explanation\n",
    "plt.title(\"LIME on highly-nonlinear decision boundary\")\n",
    "#black box boundary\n",
    "plt.contourf(\n",
    "    grid_x1, grid_x2,\n",
    "    grid_df['predicted'].values.reshape(n_grid, n_grid),\n",
    "    alpha=0.35, cmap='coolwarm')\n",
    "\n",
    "#+ and -\n",
    "plt.scatter(\n",
    "    grid_df_small[grid_df_small['explained_class'] == 1]['x1'],\n",
    "    grid_df_small[grid_df_small['explained_class'] == 1]['x2'],\n",
    "    color='red', marker='x', s=40, label='Local Class 1'\n",
    ")\n",
    "plt.scatter(\n",
    "    grid_df_small[grid_df_small['explained_class'] == 0]['x1'],\n",
    "    grid_df_small[grid_df_small['explained_class'] == 0]['x2'],\n",
    "    color='blue', marker='_', s=40, label='Local Class 0'\n",
    ")\n",
    "\n",
    "#instance point\n",
    "plt.scatter(\n",
    "    df_explain['x1'], df_explain['x2'],\n",
    "    color='yellow', edgecolor='black', s=100, label='Explained Point'\n",
    ")\n",
    "\n",
    "# Decision Boundary of Logistic Regression\n",
    "plt.plot(\n",
    "    logistic_boundary_df['x1'], logistic_boundary_df['x2'],\n",
    "    color='white', linewidth=2, label='Logistic Boundary'\n",
    ")\n",
    "plt.xlim(-2, 2)\n",
    "plt.ylim(-2, 1)\n",
    "plt.xlabel(\"x1\")\n",
    "plt.ylabel(\"x2\")\n",
    "\n",
    "plt.tight_layout()\n",
    "plt.savefig(\"results/algo3.png\")\n",
    "plt.show()"
   ],
   "id": "a95f036ad02d70cd",
   "outputs": [
    {
     "name": "stderr",
     "output_type": "stream",
     "text": [
      "/Library/Frameworks/Python.framework/Versions/3.12/lib/python3.12/site-packages/sklearn/base.py:493: UserWarning: X does not have valid feature names, but RandomForestClassifier was fitted with feature names\n",
      "  warnings.warn(\n"
     ]
    },
    {
     "data": {
      "text/plain": [
       "<Figure size 640x480 with 1 Axes>"
      ],
      "image/png": "[encoded data removed]"
     },
     "metadata": {},
     "output_type": "display_data"
    }
   ],
   "execution_count": 21
  },
  {
   "metadata": {
    "ExecuteTime": {
     "end_time": "2025-01-04T02:45:12.976443Z",
     "start_time": "2025-01-04T02:45:12.912028Z"
    }
   },
   "cell_type": "code",
   "source": [
    "from PIL import Image\n",
    "path1 = \"results/algo3.png\"\n",
    "path2 = \"results/algo2.png\"\n",
    "elipse1 = Image.open(path1)\n",
    "elipse2 = Image.open(path2)\n",
    "combined_width = elipse1.width + elipse2.width\n",
    "combined_height = max(elipse1.height, elipse2.height)\n",
    "combined_image = Image.new(\"RGB\", (combined_width, combined_height), \"white\")\n",
    "combined_image.paste(elipse1, (0, 0))\n",
    "combined_image.paste(elipse2, (elipse1.width, 0))\n",
    "combined_image.save(\"results/nonlinear_boundary.png\")"
   ],
   "id": "41cfd7ff46e815e5",
   "outputs": [],
   "execution_count": 23
  },
  {
   "metadata": {},
   "cell_type": "code",
   "outputs": [],
   "execution_count": null,
   "source": "",
   "id": "343abe290bb01f91"
  }
 ],
 "metadata": {
  "kernelspec": {
   "display_name": "Python 3",
   "language": "python",
   "name": "python3"
  },
  "language_info": {
   "codemirror_mode": {
    "name": "ipython",
    "version": 2
   },
   "file_extension": ".py",
   "mimetype": "text/x-python",
   "name": "python",
   "nbconvert_exporter": "python",
   "pygments_lexer": "ipython2",
   "version": "2.7.6"
  }
 },
 "nbformat": 4,
 "nbformat_minor": 5
}
