{
 "cells": [
  {
   "cell_type": "code",
   "id": "initial_id",
   "metadata": {
    "collapsed": true,
    "ExecuteTime": {
     "end_time": "2025-01-04T02:21:54.719644Z",
     "start_time": "2025-01-04T02:21:53.633011Z"
    }
   },
   "source": [
    "import numpy as np\n",
    "import pandas as pd\n",
    "import lime\n",
    "from lime.lime_text import LimeTextExplainer"
   ],
   "outputs": [],
   "execution_count": 1
  },
  {
   "metadata": {
    "ExecuteTime": {
     "end_time": "2025-01-04T02:21:55.204638Z",
     "start_time": "2025-01-04T02:21:54.720985Z"
    }
   },
   "cell_type": "code",
   "source": "df = pd.read_csv('data/IMDB Dataset.csv')",
   "id": "d6278dd4e38388b1",
   "outputs": [],
   "execution_count": 2
  },
  {
   "metadata": {
    "ExecuteTime": {
     "end_time": "2025-01-04T02:21:55.213706Z",
     "start_time": "2025-01-04T02:21:55.205278Z"
    }
   },
   "cell_type": "code",
   "source": "df",
   "id": "8fb409c6f19ecd81",
   "outputs": [
    {
     "data": {
      "text/plain": [
       "                                                  review sentiment\n",
       "0      One of the other reviewers has mentioned that ...  positive\n",
       "1      A wonderful little production. <br /><br />The...  positive\n",
       "2      I thought this was a wonderful way to spend ti...  positive\n",
       "3      Basically there's a family where a little boy ...  negative\n",
       "4      Petter Mattei's \"Love in the Time of Money\" is...  positive\n",
       "...                                                  ...       ...\n",
       "49995  I thought this movie did a down right good job...  positive\n",
       "49996  Bad plot, bad dialogue, bad acting, idiotic di...  negative\n",
       "49997  I am a Catholic taught in parochial elementary...  negative\n",
       "49998  I'm going to have to disagree with the previou...  negative\n",
       "49999  No one expects the Star Trek movies to be high...  negative\n",
       "\n",
       "[50000 rows x 2 columns]"
      ],
      "text/html": [
       "<div>\n",
       "<style scoped>\n",
       "    .dataframe tbody tr th:only-of-type {\n",
       "        vertical-align: middle;\n",
       "    }\n",
       "\n",
       "    .dataframe tbody tr th {\n",
       "        vertical-align: top;\n",
       "    }\n",
       "\n",
       "    .dataframe thead th {\n",
       "        text-align: right;\n",
       "    }\n",
       "</style>\n",
       "<table border=\"1\" class=\"dataframe\">\n",
       "  <thead>\n",
       "    <tr style=\"text-align: right;\">\n",
       "      <th></th>\n",
       "      <th>review</th>\n",
       "      <th>sentiment</th>\n",
       "    </tr>\n",
       "  </thead>\n",
       "  <tbody>\n",
       "    <tr>\n",
       "      <th>0</th>\n",
       "      <td>One of the other reviewers has mentioned that ...</td>\n",
       "      <td>positive</td>\n",
       "    </tr>\n",
       "    <tr>\n",
       "      <th>1</th>\n",
       "      <td>A wonderful little production. &lt;br /&gt;&lt;br /&gt;The...</td>\n",
       "      <td>positive</td>\n",
       "    </tr>\n",
       "    <tr>\n",
       "      <th>2</th>\n",
       "      <td>I thought this was a wonderful way to spend ti...</td>\n",
       "      <td>positive</td>\n",
       "    </tr>\n",
       "    <tr>\n",
       "      <th>3</th>\n",
       "      <td>Basically there's a family where a little boy ...</td>\n",
       "      <td>negative</td>\n",
       "    </tr>\n",
       "    <tr>\n",
       "      <th>4</th>\n",
       "      <td>Petter Mattei's \"Love in the Time of Money\" is...</td>\n",
       "      <td>positive</td>\n",
       "    </tr>\n",
       "    <tr>\n",
       "      <th>...</th>\n",
       "      <td>...</td>\n",
       "      <td>...</td>\n",
       "    </tr>\n",
       "    <tr>\n",
       "      <th>49995</th>\n",
       "      <td>I thought this movie did a down right good job...</td>\n",
       "      <td>positive</td>\n",
       "    </tr>\n",
       "    <tr>\n",
       "      <th>49996</th>\n",
       "      <td>Bad plot, bad dialogue, bad acting, idiotic di...</td>\n",
       "      <td>negative</td>\n",
       "    </tr>\n",
       "    <tr>\n",
       "      <th>49997</th>\n",
       "      <td>I am a Catholic taught in parochial elementary...</td>\n",
       "      <td>negative</td>\n",
       "    </tr>\n",
       "    <tr>\n",
       "      <th>49998</th>\n",
       "      <td>I'm going to have to disagree with the previou...</td>\n",
       "      <td>negative</td>\n",
       "    </tr>\n",
       "    <tr>\n",
       "      <th>49999</th>\n",
       "      <td>No one expects the Star Trek movies to be high...</td>\n",
       "      <td>negative</td>\n",
       "    </tr>\n",
       "  </tbody>\n",
       "</table>\n",
       "<p>50000 rows × 2 columns</p>\n",
       "</div>"
      ]
     },
     "execution_count": 3,
     "metadata": {},
     "output_type": "execute_result"
    }
   ],
   "execution_count": 3
  },
  {
   "metadata": {},
   "cell_type": "markdown",
   "source": "begin with train test split",
   "id": "c6cb374e52e210c8"
  },
  {
   "metadata": {
    "ExecuteTime": {
     "end_time": "2025-01-04T02:21:55.222295Z",
     "start_time": "2025-01-04T02:21:55.214537Z"
    }
   },
   "cell_type": "code",
   "source": [
    "from sklearn.model_selection import train_test_split\n",
    "\n",
    "X = df.drop('sentiment', axis=1)\n",
    "y = df['sentiment']\n",
    "X_train, X_test, y_train, y_test = train_test_split(X, y, test_size=0.2, random_state=42)"
   ],
   "id": "586c8a23046f4e6d",
   "outputs": [],
   "execution_count": 4
  },
  {
   "metadata": {},
   "cell_type": "markdown",
   "source": "vectorizing",
   "id": "a38fb65b65a7b8ce"
  },
  {
   "metadata": {
    "ExecuteTime": {
     "end_time": "2025-01-04T02:21:58.786001Z",
     "start_time": "2025-01-04T02:21:55.223678Z"
    }
   },
   "cell_type": "code",
   "source": [
    "X_train = X_train.squeeze()\n",
    "X_test = X_test.squeeze()\n",
    "\n",
    "from sklearn.feature_extraction.text import TfidfVectorizer\n",
    "vectorizer = TfidfVectorizer(max_features=5000, stop_words='english')\n",
    "X_train_vec = vectorizer.fit_transform(X_train)\n",
    "X_test_vec = vectorizer.transform(X_test)"
   ],
   "id": "993e84a554f87696",
   "outputs": [],
   "execution_count": 5
  },
  {
   "metadata": {},
   "cell_type": "markdown",
   "source": "train the model",
   "id": "973d938a1c6fde60"
  },
  {
   "metadata": {
    "jupyter": {
     "is_executing": true
    },
    "ExecuteTime": {
     "start_time": "2025-01-04T02:21:58.786655Z"
    }
   },
   "cell_type": "code",
   "source": [
    "from sklearn.ensemble import RandomForestClassifier\n",
    "\n",
    "model = RandomForestClassifier(random_state=42)\n",
    "model.fit(X_train_vec, y_train)"
   ],
   "id": "397529fc17ef6599",
   "outputs": [],
   "execution_count": null
  },
  {
   "metadata": {},
   "cell_type": "markdown",
   "source": "model evaluation",
   "id": "11bdb62c7b43270b"
  },
  {
   "metadata": {
    "jupyter": {
     "is_executing": true
    }
   },
   "cell_type": "code",
   "source": [
    "score = model.score(X_test_vec, y_test)\n",
    "score"
   ],
   "id": "48a4f679f291178",
   "outputs": [],
   "execution_count": null
  },
  {
   "metadata": {},
   "cell_type": "markdown",
   "source": "Create the explainer",
   "id": "4f48976a372f4922"
  },
  {
   "metadata": {
    "jupyter": {
     "is_executing": true
    }
   },
   "cell_type": "code",
   "source": "explainer = LimeTextExplainer(class_names=['negative', 'positive'], random_state = 42)",
   "id": "71e42032dfe02192",
   "outputs": [],
   "execution_count": null
  },
  {
   "metadata": {},
   "cell_type": "markdown",
   "source": "create a pipeline",
   "id": "62aac417667d449c"
  },
  {
   "metadata": {
    "jupyter": {
     "is_executing": true
    }
   },
   "cell_type": "code",
   "source": [
    "from sklearn.pipeline import make_pipeline\n",
    "pipeline = make_pipeline(vectorizer, model)"
   ],
   "id": "561805e4f7aa9620",
   "outputs": [],
   "execution_count": null
  },
  {
   "metadata": {},
   "cell_type": "markdown",
   "source": "select a sample",
   "id": "bb908294a3bde4ab"
  },
  {
   "metadata": {
    "jupyter": {
     "is_executing": true
    }
   },
   "cell_type": "code",
   "source": [
    "idx = 80\n",
    "sample_text = X_test.iloc[idx]\n",
    "data_test = vectorizer.transform([sample_text])\n",
    "prediction = model.predict(data_test)[0] \n",
    "y_true = np.array(y_test)[idx]   \n",
    "print(f\"Sample {idx} from the test set, predicted as {'positive' if prediction == 1 else 'negative'}, true label is {'positive' if y_true == 1 else 'negative'}\")\n"
   ],
   "id": "37a6e81548da6d0",
   "outputs": [],
   "execution_count": null
  },
  {
   "metadata": {
    "jupyter": {
     "is_executing": true
    }
   },
   "cell_type": "code",
   "source": [
    "exp = explainer.explain_instance(\n",
    "    X_test.iloc[idx],            \n",
    "    pipeline.predict_proba,   \n",
    "    num_features=6\n",
    ")\n",
    "exp.save_to_file('results/text_explanation1.html')\n",
    "exp.show_in_notebook(text=sample_text)"
   ],
   "id": "640f126f382723b5",
   "outputs": [],
   "execution_count": null
  },
  {
   "metadata": {},
   "cell_type": "markdown",
   "source": "",
   "id": "e3833a8764be7625"
  },
  {
   "metadata": {},
   "cell_type": "markdown",
   "source": "Rerun the explainer again with a different seed",
   "id": "c4a5123d00854e8e"
  },
  {
   "metadata": {
    "jupyter": {
     "is_executing": true
    }
   },
   "cell_type": "code",
   "source": [
    "explainer = LimeTextExplainer(class_names=['negative', 'positive'], random_state = 99)\n",
    "exp2 = explainer.explain_instance(\n",
    "    X_test.iloc[idx],            \n",
    "    pipeline.predict_proba,   \n",
    "    num_features=6\n",
    ")\n",
    "exp2.save_to_file('results/text_explanation2.html')\n",
    "exp2.show_in_notebook(text=sample_text)"
   ],
   "id": "5e8457674583c64f",
   "outputs": [],
   "execution_count": null
  },
  {
   "metadata": {
    "jupyter": {
     "is_executing": true
    }
   },
   "cell_type": "code",
   "source": [
    "sample_text = 'It is quite rare that a movie comes along that is so useless'\n",
    "print(\"Original Text:\", sample_text)\n",
    "\n",
    "vectorizer = TfidfVectorizer()\n",
    "model = RandomForestClassifier()\n",
    "\n",
    "words = sample_text.split()\n",
    "\n",
    "np.random.seed(42)\n",
    "num_samples = 5\n",
    "word_matrix = np.random.choice([0, 1], size=(num_samples, len(words)))\n",
    "perturbed_sentences = []\n",
    "probabilities = []\n",
    "\n",
    "for row in word_matrix:\n",
    "    perturbed_text = \" \".join([word for word, keep in zip(words, row) if keep == 1])\n",
    "    perturbed_sentences.append(perturbed_text)\n",
    "    probabilities.append(np.random.uniform(0, 1)) \n",
    "\n",
    "weights = []\n",
    "for row in word_matrix:\n",
    "    proximity = 1 - (np.sum(row == 0) / len(words))\n",
    "    weights.append(proximity)\n",
    "\n",
    "columns = words + [\"prob\", \"weight\"]\n",
    "data = np.hstack([word_matrix, np.array(probabilities).reshape(-1, 1), np.array(weights).reshape(-1, 1)])\n",
    "df = pd.DataFrame(data, columns=columns)"
   ],
   "id": "bf6ea2a0115f4d0",
   "outputs": [],
   "execution_count": null
  },
  {
   "metadata": {
    "jupyter": {
     "is_executing": true
    }
   },
   "cell_type": "code",
   "source": [
    "\n",
    "fig, ax = plt.subplots(figsize=(12, 2))\n",
    "ax.axis('tight')\n",
    "ax.axis('off')\n",
    "table = ax.table(cellText=df.values, colLabels=df.columns, loc='center')\n",
    "table.auto_set_font_size(False)\n",
    "table.set_fontsize(10)\n",
    "table.auto_set_column_width(col=list(range(len(df.columns))))\n",
    "path = \"results/simulated_text_perturbation.png.png\"\n",
    "fig.savefig(path, dpi=300, bbox_inches='tight')\n",
    "plt.show()\n",
    "\n"
   ],
   "id": "305fd7fae17cb2f3",
   "outputs": [],
   "execution_count": null
  }
 ],
 "metadata": {
  "kernelspec": {
   "display_name": "Python 3",
   "language": "python",
   "name": "python3"
  },
  "language_info": {
   "codemirror_mode": {
    "name": "ipython",
    "version": 2
   },
   "file_extension": ".py",
   "mimetype": "text/x-python",
   "name": "python",
   "nbconvert_exporter": "python",
   "pygments_lexer": "ipython2",
   "version": "2.7.6"
  }
 },
 "nbformat": 4,
 "nbformat_minor": 5
}
