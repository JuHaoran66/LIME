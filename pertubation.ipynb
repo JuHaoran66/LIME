{
 "cells": [
  {
   "metadata": {},
   "cell_type": "markdown",
   "source": "The function plot_lime refers to https://github.com/slds-lmu/iml_methods_limitations, which is an implementation in R and can be found in code/LIME/Sampling/plot_functions.R.",
   "id": "cd082006e40301c9"
  },
  {
   "cell_type": "code",
   "id": "9af215728c9e28ff",
   "metadata": {
    "collapsed": true,
    "ExecuteTime": {
     "end_time": "2024-12-25T23:40:26.689996Z",
     "start_time": "2024-12-25T23:40:26.681999Z"
    }
   },
   "source": [
    "import numpy as np\n",
    "import pandas as pd\n",
    "import matplotlib.pyplot as plt\n",
    "from sklearn.linear_model import LinearRegression"
   ],
   "outputs": [],
   "execution_count": null
  },
  {
   "metadata": {},
   "cell_type": "markdown",
   "source": "",
   "id": "a8a0a4d98d1ae782"
  },
  {
   "metadata": {},
   "cell_type": "code",
   "outputs": [],
   "execution_count": 10,
   "source": [
    "def plot_lime(filepath,model_smoothness=270, sample_seed=1, kernel_width=900, sample_size=10, ylab=\"target\"):\n",
    "    def black_box(x):\n",
    "        return np.sin(x / model_smoothness)\n",
    "    x = np.arange(1, 1001)\n",
    "    y = black_box(x)\n",
    "    \n",
    "    np.random.seed(1)\n",
    "    x_ex = np.random.uniform(1, 1000, 1)[0]\n",
    "    y_ex = black_box(x_ex)\n",
    "    \n",
    "    np.random.seed(sample_seed)\n",
    "    x_samp = np.random.uniform(1, 1000, sample_size)\n",
    "    y_samp = black_box(x_samp)\n",
    "    \n",
    "    weights = np.exp(-((x_samp - x_ex) ** 2) / kernel_width)\n",
    "    \n",
    "    model = LinearRegression()\n",
    "    model.fit(x_samp.reshape(-1, 1), y_samp, sample_weight=weights)\n",
    "    y_pred = model.predict(x.reshape(-1, 1))\n",
    "    \n",
    "    plt.figure(figsize=(10, 6))\n",
    "    plt.plot(x, y, color=\"#00C5CD\", linewidth=2.5)\n",
    "    plt.plot(x, y_pred, color=\"#e04d2e\", linewidth=2)\n",
    "    plt.scatter(x_samp, y_samp, color=\"black\", s=50)\n",
    "    plt.scatter([x_ex], [y_ex], color=\"#c1c10d\", s=100)\n",
    "    plt.ylim(-1.5, 1.5)\n",
    "    plt.xlabel(\"feature\")\n",
    "    plt.ylabel(ylab)\n",
    "    plt.grid(True)\n",
    "    plt.savefig(filepath)\n",
    "    plt.close()\n",
    "    plt.show()"
   ],
   "id": "644270ea63699797"
  },
  {
   "metadata": {
    "ExecuteTime": {
     "end_time": "2024-12-25T23:40:26.853872Z",
     "start_time": "2024-12-25T23:40:26.693658Z"
    }
   },
   "cell_type": "code",
   "source": [
    "path1 = \"results/sampling1.png\"\n",
    "path2 = \"results/sampling2.png\"\n",
    "plot_lime(path1,sample_seed=1, model_smoothness=50, sample_size=5)\n",
    "plot_lime(path2,sample_seed=2, model_smoothness=50, sample_size=5)\n"
   ],
   "id": "6b79d8ea6b0a74ad",
   "outputs": [],
   "execution_count": 11
  },
  {
   "metadata": {
    "ExecuteTime": {
     "end_time": "2024-12-25T23:40:26.939346Z",
     "start_time": "2024-12-25T23:40:26.855425Z"
    }
   },
   "cell_type": "code",
   "source": [
    "from PIL import Image\n",
    "image1 = Image.open(path1)\n",
    "image2 = Image.open(path2)\n",
    "\n",
    "combined_width = image1.width + image2.width\n",
    "combined_height = max(image1.height, image2.height)\n",
    "\n",
    "combined_image = Image.new(\"RGB\", (combined_width, combined_height))\n",
    "combined_image.paste(image1, (0, 0))\n",
    "combined_image.paste(image2, (image1.width, 0))\n",
    "\n",
    "combined_image.save(\"results/sampling_size5.png\")\n"
   ],
   "id": "ca4178f7ecea0d23",
   "outputs": [],
   "execution_count": 12
  },
  {
   "metadata": {
    "ExecuteTime": {
     "end_time": "2024-12-25T23:40:27.203616Z",
     "start_time": "2024-12-25T23:40:26.940460Z"
    }
   },
   "cell_type": "code",
   "source": [
    "path3 = \"results/sampling3.png\"\n",
    "path4 = \"results/sampling4.png\"\n",
    "plot_lime(path3,sample_seed=1, model_smoothness=50, sample_size=50)\n",
    "plot_lime(path4,sample_seed=2, model_smoothness=50, sample_size=50)"
   ],
   "id": "fce55ee35100b2c7",
   "outputs": [],
   "execution_count": 13
  },
  {
   "metadata": {
    "ExecuteTime": {
     "end_time": "2024-12-25T23:40:27.293635Z",
     "start_time": "2024-12-25T23:40:27.204797Z"
    }
   },
   "cell_type": "code",
   "source": [
    "image3 = Image.open(path3)\n",
    "image4 = Image.open(path4)\n",
    "\n",
    "combined_width = image3.width + image4.width\n",
    "combined_height = max(image3.height, image4.height)\n",
    "\n",
    "combined_image = Image.new(\"RGB\", (combined_width, combined_height))\n",
    "combined_image.paste(image3, (0, 0))\n",
    "combined_image.paste(image4, (image1.width, 0))\n",
    "\n",
    "combined_image.save(\"results/sampling_size50.png\")"
   ],
   "id": "8adeb6ec20ab341",
   "outputs": [],
   "execution_count": 14
  }
 ],
 "metadata": {
  "kernelspec": {
   "display_name": "Python 3",
   "language": "python",
   "name": "python3"
  },
  "language_info": {
   "codemirror_mode": {
    "name": "ipython",
    "version": 2
   },
   "file_extension": ".py",
   "mimetype": "text/x-python",
   "name": "python",
   "nbconvert_exporter": "python",
   "pygments_lexer": "ipython2",
   "version": "2.7.6"
  }
 },
 "nbformat": 4,
 "nbformat_minor": 5
}
